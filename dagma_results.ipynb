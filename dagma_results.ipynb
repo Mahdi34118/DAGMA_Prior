{
 "cells": [
  {
   "cell_type": "markdown",
   "metadata": {},
   "source": [
    "### fmri nonlinear"
   ]
  },
  {
   "cell_type": "code",
   "execution_count": 1,
   "metadata": {},
   "outputs": [],
   "source": [
    "import torch\n",
    "from dagma import utils\n",
    "from dagma.linear import DagmaLinear\n",
    "from dagma.nonlinear import DagmaMLP, DagmaNonlinear\n",
    "import numpy as np\n",
    "from auxiliary_funcs import *"
   ]
  },
  {
   "cell_type": "code",
   "execution_count": 2,
   "metadata": {},
   "outputs": [],
   "source": [
    "X = np.concatenate([[np.eye(164)]] * 67, axis=0)\n",
    "X = np.transpose(X , (1,2,0))"
   ]
  },
  {
   "cell_type": "code",
   "execution_count": 3,
   "metadata": {},
   "outputs": [],
   "source": [
    "data_normalized=np.load( 'connectome_67subs_invnodevol .npy') \n",
    "s_connectome_probb=np.zeros((164,164,67))\n",
    "s_connectome_probb1=np.zeros((164,164,67))\n",
    "\n",
    "for i in range(67):\n",
    "    for j in range (164): \n",
    "        s_connectome_probb[j,:,i]=(data_normalized[j,:,i]/(data_normalized[j,:,i].sum()))\n",
    "        s_connectome_probb1[j,:,i]=s_connectome_probb[j,:,i]\n",
    "       # s_connectome_probb[s_connectome_probb == -inf] = -5\n",
    "    MAX=max(s_connectome_probb[:,:,i].flatten())\n",
    "    MIN=min(s_connectome_probb[:,:,i].flatten())\n",
    "    s_connectome_probb[:,:,i]=(s_connectome_probb[:,:,i]-MIN)/(MAX-MIN)\n",
    "        \n",
    "# s_connectome_probb[s_connectome_probb1 == -inf] = 0\n",
    "# plt.hist(.5*s_connectome_probb[:,:,1].flatten(),bins=10 ,range=(0,0.1) )"
   ]
  },
  {
   "cell_type": "code",
   "execution_count": 4,
   "metadata": {},
   "outputs": [],
   "source": [
    "s_connectome_probb2 = s_connectome_probb + X\n",
    "np.save('DTI_conectome' ,s_connectome_probb)"
   ]
  },
  {
   "cell_type": "code",
   "execution_count": 68,
   "metadata": {},
   "outputs": [],
   "source": [
    "edges = int(0.85 * 164*164)"
   ]
  },
  {
   "cell_type": "code",
   "execution_count": 69,
   "metadata": {},
   "outputs": [],
   "source": [
    "sc = directed_mrtx(np.expand_dims(s_connectome_probb ,3) , edges)"
   ]
  },
  {
   "cell_type": "code",
   "execution_count": 70,
   "metadata": {},
   "outputs": [
    {
     "data": {
      "text/plain": [
       "(0.8577111838191552, (164, 164))"
      ]
     },
     "execution_count": 70,
     "metadata": {},
     "output_type": "execute_result"
    }
   ],
   "source": [
    "bsc = np.sum(sc , 2)[:,:,0] \n",
    "bsc = (bsc > 37)*1\n",
    "bsc.sum()/(164*164) , bsc.shape"
   ]
  },
  {
   "cell_type": "code",
   "execution_count": 71,
   "metadata": {},
   "outputs": [],
   "source": [
    "np.save('SC_binary' ,bsc)"
   ]
  },
  {
   "cell_type": "code",
   "execution_count": 80,
   "metadata": {},
   "outputs": [
    {
     "name": "stdout",
     "output_type": "stream",
     "text": [
      "********  dataset name is  mean1_dataset    ldagma  ********\n",
      "th id : 0\n",
      "sp_id : 0\n",
      "estimated matrix edges are  :  850564\n",
      "estimated matrix edges are  :  1651100\n",
      "num_div is :  6\n",
      "expected num edges is :  2778\n",
      "real num edges is :  190\n",
      "num of diff_est_strc   36\n",
      "pfdr percentage is : 18.947368421052634\n",
      "**********\n",
      "num_div is :  7\n",
      "expected num edges is :  2381\n",
      "real num edges is :  118\n",
      "num of diff_est_strc   20\n",
      "pfdr percentage is : 16.94915254237288\n",
      "**********\n",
      "num_div is :  8\n",
      "expected num edges is :  2083\n",
      "real num edges is :  66\n",
      "num of diff_est_strc   10\n",
      "pfdr percentage is : 15.151515151515152\n",
      "**********\n",
      "num_div is :  9\n",
      "expected num edges is :  1852\n",
      "real num edges is :  48\n",
      "num of diff_est_strc   7\n",
      "pfdr percentage is : 14.583333333333334\n",
      "**********\n",
      "num_div is :  10\n",
      "expected num edges is :  1667\n",
      "real num edges is :  32\n",
      "num of diff_est_strc   3\n",
      "pfdr percentage is : 9.375\n",
      "**********\n"
     ]
    }
   ],
   "source": [
    "#dataset and loading and saving adds \n",
    "data_folder = 'Data/'  \n",
    "results_folder = 'outcomes/'\n",
    "data_name = 'mean1_dataset'\n",
    "prior_name = '_DTI_dataset'\n",
    "# prior_name = ''\n",
    "# data_name = 'mean2_dataset'\n",
    "model_type = 'ldagma'\n",
    "ul = '_'\n",
    "dataset = np.load(data_folder + data_name + '.npy')\n",
    "print(\"********\",\" dataset name is \" , data_name , '  ' , model_type  , \" ********\")\n",
    "#prepare the hyperparameters list\n",
    "# sparsity_coef_list = [0.008]\n",
    "sparsity_coef_list = [0.08]\n",
    "th_coef_list = [0.001]\n",
    "sub_nums = 62\n",
    "node_nums = 164\n",
    "num_samples = 1200\n",
    "#model and training\n",
    "for th_id , th_coef in enumerate(th_coef_list) :\n",
    "    print(f\"th id : {th_id}\")\n",
    "    for sp_id , sp_coef in enumerate(sparsity_coef_list):\n",
    "        print(f\"sp_id : {sp_id}\")\n",
    "        W_est = np.zeros((node_nums , node_nums, sub_nums))\n",
    "        save_name = [data_name + prior_name + ul + model_type+ ul + 'num_subs_' + \n",
    "                     str(sub_nums) + ul + 'sparsity_' + str(sp_coef) +\n",
    "                     ul + 'thershold' + ul + str(th_coef) ][0]\n",
    "\n",
    "        add_strc = data_folder + \"SC_binary.npy\"\n",
    "        \n",
    "    B_est = pfdr_(results_folder+ save_name , add_strc ,num_ed = 5 ,num_div = 5, th =25)\n",
    "        # connectivity_map(add1 = add_strc , add2 = results_folder+ save_name ,\n",
    "        #                     edges =2000, name1 = 'Structural' , name2 = 'Estimated' , th=25)"
   ]
  },
  {
   "cell_type": "code",
   "execution_count": 81,
   "metadata": {},
   "outputs": [],
   "source": [
    "add2 = results_folder+ save_name + '.npy'\n",
    "res1 = np.expand_dims(np.load(add2),3)\n",
    "bs1 = extract_conn(res1)"
   ]
  },
  {
   "cell_type": "code",
   "execution_count": 82,
   "metadata": {},
   "outputs": [
    {
     "name": "stderr",
     "output_type": "stream",
     "text": [
      "/tmp/ipykernel_1193273/3795451858.py:8: RuntimeWarning: invalid value encountered in scalar divide\n",
      "  print(((bs3 - bsc)>0).sum()/bs3.sum())\n"
     ]
    },
    {
     "name": "stdout",
     "output_type": "stream",
     "text": [
      "nan\n",
      "0.0\n",
      "0.03333333333333333\n",
      "0.028985507246376812\n"
     ]
    }
   ],
   "source": [
    "edges_nums = [100 , 200 , 300 , 400 ] \n",
    "for edges_num in edges_nums :\n",
    "    bs2 = directed_mrtx(bs1 , edges_num )\n",
    "    bs2[:,:,0].sum()\n",
    "    bs2 = np.sum(bs2[:,:,:,0] , 2)\n",
    "    bs3 = (bs2 >9)*1\n",
    "    # print(\"bs3 : \" ,bs3.sum())\n",
    "    print(((bs3 - bsc)>0).sum()/bs3.sum())"
   ]
  },
  {
   "cell_type": "code",
   "execution_count": 76,
   "metadata": {},
   "outputs": [
    {
     "name": "stderr",
     "output_type": "stream",
     "text": [
      "/tmp/ipykernel_1193273/4104769046.py:8: RuntimeWarning: invalid value encountered in scalar divide\n",
      "  print(((bs3 - bsc)>0).sum()/bs3.sum())\n"
     ]
    },
    {
     "name": "stdout",
     "output_type": "stream",
     "text": [
      "nan\n",
      "nan\n",
      "nan\n",
      "nan\n",
      "nan\n",
      "nan\n",
      "nan\n"
     ]
    }
   ],
   "source": [
    "edges_nums = [100 , 200 , 300 , 400 , 500 , 600 , 1800] \n",
    "for edges_num in edges_nums :\n",
    "    bs2 = directed_mrtx(bs1 , edges_num )\n",
    "    bs2[:,:,0].sum()\n",
    "    bs2 = np.sum(bs2[:,:,:,0] , 2)\n",
    "    bs3 = (bs2 > 40)*1\n",
    "    # print(\"bs3 : \" ,bs3.sum())\n",
    "    print(((bs3 - bsc)>0).sum()/bs3.sum())"
   ]
  },
  {
   "cell_type": "code",
   "execution_count": null,
   "metadata": {},
   "outputs": [],
   "source": []
  }
 ],
 "metadata": {
  "kernelspec": {
   "display_name": "Python 3 (ipykernel)",
   "language": "python",
   "name": "python3"
  },
  "language_info": {
   "codemirror_mode": {
    "name": "ipython",
    "version": 3
   },
   "file_extension": ".py",
   "mimetype": "text/x-python",
   "name": "python",
   "nbconvert_exporter": "python",
   "pygments_lexer": "ipython3",
   "version": "3.10.9"
  }
 },
 "nbformat": 4,
 "nbformat_minor": 4
}
